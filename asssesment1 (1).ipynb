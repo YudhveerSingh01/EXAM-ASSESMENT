{
 "cells": [
  {
   "cell_type": "code",
   "execution_count": 7,
   "id": "ff71e2cd-bb0b-4c76-a685-5ff2c2eb5c68",
   "metadata": {},
   "outputs": [],
   "source": [
    "import pandas as pd\n"
   ]
  },
  {
   "cell_type": "markdown",
   "id": "72ba0a39-3b01-49b4-baf1-a2129d47d3db",
   "metadata": {},
   "source": [
    "# Create sample data"
   ]
  },
  {
   "cell_type": "code",
   "execution_count": 54,
   "id": "5467d554-6e55-4c4f-992e-73481d32c5fb",
   "metadata": {},
   "outputs": [],
   "source": [
    "\n",
    "data = {\n",
    "    'Date':['2024-07-07', '2024-07-08', '2024-07-09', '2024-07-10', '2024-07-11'],\n",
    "    'Temperature (°C)': [25.3, 27.1, 24.8, 26.5, 28.0,25.5,26.0],\n",
    "    'Humidity Level (%)': [60, 55, 63, 58, 50,54,57],\n",
    "    'Air Quality Index': [45, 50, 42, 47, 52,44,4] }"
   ]
  },
  {
   "cell_type": "markdown",
   "id": "209f6eb8-83d0-4853-8bf4-4c5c5af74ee4",
   "metadata": {},
   "source": [
    "# Create DataFrame"
   ]
  },
  {
   "cell_type": "code",
   "execution_count": 57,
   "id": "3516a8ba-52b6-49c4-9ea8-3ac10c29577c",
   "metadata": {},
   "outputs": [],
   "source": [
    "df = pd.DataFrame(data)"
   ]
  },
  {
   "cell_type": "markdown",
   "id": "8a141c9a-5731-4e62-b9dc-6493ad3e3645",
   "metadata": {},
   "source": [
    "# Save DataFrame to CSV"
   ]
  },
  {
   "cell_type": "code",
   "execution_count": 62,
   "id": "ffd36903-b68d-4ce7-97cd-f7480914e78e",
   "metadata": {},
   "outputs": [
    {
     "name": "stdout",
     "output_type": "stream",
     "text": [
      "         Date  Temperature (°C)  Humidity Level (%)  Air Quality Index\n",
      "0  2024-07-07              25.3                  60                 45\n",
      "1  2024-07-08              27.1                  55                 50\n",
      "2  2024-07-09              24.8                  63                 42\n",
      "3  2024-07-10              26.5                  58                 47\n",
      "4  2024-07-11              28.0                  50                 52\n"
     ]
    }
   ],
   "source": [
    "df.to_csv('city_weather.csv', index=False)\n",
    "\n",
    "print(df)"
   ]
  },
  {
   "cell_type": "code",
   "execution_count": 85,
   "id": "b2a48e96-effe-4c44-888b-15b8c32a41ad",
   "metadata": {},
   "outputs": [],
   "source": [
    "file_path = 'city_weather.csv'\n",
    "df.to_csv(file_path, index=False)"
   ]
  },
  {
   "cell_type": "code",
   "execution_count": null,
   "id": "08289407-fb7c-4aca-9654-9607ea2832a7",
   "metadata": {},
   "outputs": [],
   "source": []
  },
  {
   "cell_type": "code",
   "execution_count": null,
   "id": "e2af9a49-f06b-48ce-b906-410a670e5db4",
   "metadata": {},
   "outputs": [],
   "source": []
  }
 ],
 "metadata": {
  "kernelspec": {
   "display_name": "Python 3 (ipykernel)",
   "language": "python",
   "name": "python3"
  },
  "language_info": {
   "codemirror_mode": {
    "name": "ipython",
    "version": 3
   },
   "file_extension": ".py",
   "mimetype": "text/x-python",
   "name": "python",
   "nbconvert_exporter": "python",
   "pygments_lexer": "ipython3",
   "version": "3.12.4"
  }
 },
 "nbformat": 4,
 "nbformat_minor": 5
}
