{
 "cells": [
  {
   "cell_type": "code",
   "execution_count": 5,
   "id": "74f67d2b-4373-4cf4-928b-f8c330b3f793",
   "metadata": {},
   "outputs": [],
   "source": [
    "import numpy as np\n",
    "import pandas as pd\n",
    "import matplotlib.pyplot as plt"
   ]
  },
  {
   "cell_type": "code",
   "execution_count": 6,
   "id": "12709d6b-de7a-4c9c-90c0-ee717224babf",
   "metadata": {},
   "outputs": [
    {
     "data": {
      "text/html": [
       "<div>\n",
       "<style scoped>\n",
       "    .dataframe tbody tr th:only-of-type {\n",
       "        vertical-align: middle;\n",
       "    }\n",
       "\n",
       "    .dataframe tbody tr th {\n",
       "        vertical-align: top;\n",
       "    }\n",
       "\n",
       "    .dataframe thead th {\n",
       "        text-align: right;\n",
       "    }\n",
       "</style>\n",
       "<table border=\"1\" class=\"dataframe\">\n",
       "  <thead>\n",
       "    <tr style=\"text-align: right;\">\n",
       "      <th></th>\n",
       "      <th>Date</th>\n",
       "      <th>Temperature (°C)</th>\n",
       "      <th>Humidity Level (%)</th>\n",
       "      <th>Air Quality Index</th>\n",
       "    </tr>\n",
       "  </thead>\n",
       "  <tbody>\n",
       "    <tr>\n",
       "      <th>0</th>\n",
       "      <td>2024-07-07</td>\n",
       "      <td>25.3</td>\n",
       "      <td>60</td>\n",
       "      <td>45</td>\n",
       "    </tr>\n",
       "    <tr>\n",
       "      <th>1</th>\n",
       "      <td>2024-07-08</td>\n",
       "      <td>27.1</td>\n",
       "      <td>55</td>\n",
       "      <td>50</td>\n",
       "    </tr>\n",
       "    <tr>\n",
       "      <th>2</th>\n",
       "      <td>2024-07-09</td>\n",
       "      <td>24.8</td>\n",
       "      <td>63</td>\n",
       "      <td>42</td>\n",
       "    </tr>\n",
       "    <tr>\n",
       "      <th>3</th>\n",
       "      <td>2024-07-10</td>\n",
       "      <td>26.5</td>\n",
       "      <td>58</td>\n",
       "      <td>47</td>\n",
       "    </tr>\n",
       "    <tr>\n",
       "      <th>4</th>\n",
       "      <td>2024-07-11</td>\n",
       "      <td>28.0</td>\n",
       "      <td>50</td>\n",
       "      <td>52</td>\n",
       "    </tr>\n",
       "  </tbody>\n",
       "</table>\n",
       "</div>"
      ],
      "text/plain": [
       "         Date  Temperature (°C)  Humidity Level (%)  Air Quality Index\n",
       "0  2024-07-07              25.3                  60                 45\n",
       "1  2024-07-08              27.1                  55                 50\n",
       "2  2024-07-09              24.8                  63                 42\n",
       "3  2024-07-10              26.5                  58                 47\n",
       "4  2024-07-11              28.0                  50                 52"
      ]
     },
     "execution_count": 6,
     "metadata": {},
     "output_type": "execute_result"
    }
   ],
   "source": [
    "df=pd.read_csv(\"city_weather.csv\")\n",
    "df"
   ]
  },
  {
   "cell_type": "code",
   "execution_count": 7,
   "id": "119ba0c4-b3f2-4c01-ad27-33a33ebeaa4d",
   "metadata": {},
   "outputs": [
    {
     "name": "stdout",
     "output_type": "stream",
     "text": [
      "            Temperature (°C)  Humidity Level (%)  Air Quality Index\n",
      "Date                                                               \n",
      "2024-07-07              25.3                  60                 45\n",
      "2024-07-08              27.1                  55                 50\n",
      "2024-07-09              24.8                  63                 42\n",
      "2024-07-10              26.5                  58                 47\n",
      "2024-07-11              28.0                  50                 52\n"
     ]
    }
   ],
   "source": [
    "df.set_index(\"Date\", inplace=True)\n",
    "print(df)\n",
    "\n"
   ]
  },
  {
   "cell_type": "code",
   "execution_count": 13,
   "id": "9f69ad8d-3657-482d-901a-8013f3e95582",
   "metadata": {},
   "outputs": [
    {
     "name": "stdout",
     "output_type": "stream",
     "text": [
      "            Temperature (°C)  Humidity Level (%)  Air Quality Index\n",
      "Date                                                               \n",
      "2024-07-07              25.3                  60                 45\n",
      "2024-07-08              27.1                  55                 50\n",
      "2024-07-09              24.8                  63                 42\n",
      "2024-07-10              26.5                  58                 47\n",
      "2024-07-11              28.0                  50                 52\n"
     ]
    }
   ],
   "source": [
    "print(df.head())"
   ]
  },
  {
   "cell_type": "code",
   "execution_count": 15,
   "id": "419d970f-dd98-4d14-bb99-bc85e9b0f732",
   "metadata": {},
   "outputs": [
    {
     "name": "stdout",
     "output_type": "stream",
     "text": [
      "<class 'pandas.core.frame.DataFrame'>\n",
      "Index: 5 entries, 2024-07-07 to 2024-07-11\n",
      "Data columns (total 3 columns):\n",
      " #   Column              Non-Null Count  Dtype  \n",
      "---  ------              --------------  -----  \n",
      " 0   Temperature (°C)    5 non-null      float64\n",
      " 1   Humidity Level (%)  5 non-null      int64  \n",
      " 2   Air Quality Index   5 non-null      int64  \n",
      "dtypes: float64(1), int64(2)\n",
      "memory usage: 160.0+ bytes\n",
      "None\n"
     ]
    }
   ],
   "source": [
    "print(df.info())"
   ]
  },
  {
   "cell_type": "code",
   "execution_count": 17,
   "id": "29ffe75e-19c1-40eb-9701-0da435635aef",
   "metadata": {},
   "outputs": [
    {
     "name": "stdout",
     "output_type": "stream",
     "text": [
      "       Temperature (°C)  Humidity Level (%)  Air Quality Index\n",
      "count           5.00000            5.000000           5.000000\n",
      "mean           26.34000           57.200000          47.200000\n",
      "std             1.30499            4.969909           3.962323\n",
      "min            24.80000           50.000000          42.000000\n",
      "25%            25.30000           55.000000          45.000000\n",
      "50%            26.50000           58.000000          47.000000\n",
      "75%            27.10000           60.000000          50.000000\n",
      "max            28.00000           63.000000          52.000000\n"
     ]
    }
   ],
   "source": [
    "print(df.describe())"
   ]
  },
  {
   "cell_type": "code",
   "execution_count": 19,
   "id": "2e8b1755-4dda-4e94-81bf-446e43e21fdc",
   "metadata": {},
   "outputs": [
    {
     "name": "stdout",
     "output_type": "stream",
     "text": [
      "                    count   mean       std   min   25%   50%   75%   max\n",
      "Temperature (°C)      5.0  26.34  1.304990  24.8  25.3  26.5  27.1  28.0\n",
      "Humidity Level (%)    5.0  57.20  4.969909  50.0  55.0  58.0  60.0  63.0\n",
      "Air Quality Index     5.0  47.20  3.962323  42.0  45.0  47.0  50.0  52.0\n"
     ]
    }
   ],
   "source": [
    "print(df.describe().T)"
   ]
  },
  {
   "cell_type": "code",
   "execution_count": 31,
   "id": "864b073f-8a06-4922-8955-3a319f4eebc7",
   "metadata": {},
   "outputs": [
    {
     "name": "stdout",
     "output_type": "stream",
     "text": [
      "26.339999999999996\n"
     ]
    }
   ],
   "source": [
    "print(df['Temperature (°C)'].mean())"
   ]
  },
  {
   "cell_type": "code",
   "execution_count": 33,
   "id": "f9e35acf-3834-4a4c-bde6-a68bbdb8249a",
   "metadata": {},
   "outputs": [
    {
     "name": "stdout",
     "output_type": "stream",
     "text": [
      "57.2\n"
     ]
    }
   ],
   "source": [
    "print(df['Humidity Level (%)'].mean())"
   ]
  },
  {
   "cell_type": "code",
   "execution_count": 35,
   "id": "6a7f0cf9-2002-4f2b-9814-713ba4154fb9",
   "metadata": {},
   "outputs": [
    {
     "name": "stdout",
     "output_type": "stream",
     "text": [
      "47.2\n"
     ]
    }
   ],
   "source": [
    "print(df['Air Quality Index'].mean())"
   ]
  },
  {
   "cell_type": "code",
   "execution_count": 49,
   "id": "5df0a92e-d1cf-4e38-8da0-3bc8960f883e",
   "metadata": {},
   "outputs": [
    {
     "name": "stdout",
     "output_type": "stream",
     "text": [
      "26.5\n"
     ]
    }
   ],
   "source": [
    "print(df['Temperature (°C)'].median())\n"
   ]
  },
  {
   "cell_type": "code",
   "execution_count": 51,
   "id": "fbc7aaec-ce47-4632-a710-b1be8116e10e",
   "metadata": {},
   "outputs": [
    {
     "name": "stdout",
     "output_type": "stream",
     "text": [
      "58.0\n"
     ]
    }
   ],
   "source": [
    "print(df['Humidity Level (%)'].median())\n"
   ]
  },
  {
   "cell_type": "code",
   "execution_count": 43,
   "id": "7bdce5c2-0e8e-457a-88c5-dc3226ae8f02",
   "metadata": {},
   "outputs": [
    {
     "name": "stdout",
     "output_type": "stream",
     "text": [
      "3.96232255123179\n"
     ]
    }
   ],
   "source": [
    "print(df['Air Quality Index'].median())\n"
   ]
  },
  {
   "cell_type": "code",
   "execution_count": 53,
   "id": "f4561d9a-b64a-4885-8bf3-e472a4b3c835",
   "metadata": {},
   "outputs": [
    {
     "name": "stdout",
     "output_type": "stream",
     "text": [
      "1.3049904214207857\n"
     ]
    }
   ],
   "source": [
    "print(df['Temperature (°C)'].std())"
   ]
  },
  {
   "cell_type": "code",
   "execution_count": 55,
   "id": "ee896309-c52f-4e09-8a5e-b6e041eb62a3",
   "metadata": {},
   "outputs": [
    {
     "name": "stdout",
     "output_type": "stream",
     "text": [
      "4.969909455915671\n"
     ]
    }
   ],
   "source": [
    "print(df['Humidity Level (%)'].std())"
   ]
  },
  {
   "cell_type": "code",
   "execution_count": 57,
   "id": "e8f3cebd-0a8e-4ff3-8af9-8414b735d9af",
   "metadata": {},
   "outputs": [
    {
     "name": "stdout",
     "output_type": "stream",
     "text": [
      "3.96232255123179\n"
     ]
    }
   ],
   "source": [
    "print(df['Air Quality Index'].std())"
   ]
  },
  {
   "cell_type": "code",
   "execution_count": 59,
   "id": "41458bdb-c656-45a9-bab8-ee167d3cc814",
   "metadata": {},
   "outputs": [
    {
     "name": "stdout",
     "output_type": "stream",
     "text": [
      "131.7\n"
     ]
    }
   ],
   "source": [
    "print(df['Temperature (°C)'].sum())"
   ]
  },
  {
   "cell_type": "code",
   "execution_count": 61,
   "id": "44f00f67-2c10-411a-88d2-422efb076f24",
   "metadata": {},
   "outputs": [
    {
     "name": "stdout",
     "output_type": "stream",
     "text": [
      "286\n"
     ]
    }
   ],
   "source": [
    "print(df['Humidity Level (%)'].sum())"
   ]
  },
  {
   "cell_type": "code",
   "execution_count": 63,
   "id": "82c9e8a9-fead-4876-8561-8bab11920d35",
   "metadata": {},
   "outputs": [
    {
     "name": "stdout",
     "output_type": "stream",
     "text": [
      "236\n"
     ]
    }
   ],
   "source": [
    "print(df['Air Quality Index'].sum())"
   ]
  },
  {
   "cell_type": "code",
   "execution_count": null,
   "id": "5a2e791b-8bea-4bd4-a6da-42654bef0fa3",
   "metadata": {},
   "outputs": [],
   "source": []
  }
 ],
 "metadata": {
  "kernelspec": {
   "display_name": "Python 3 (ipykernel)",
   "language": "python",
   "name": "python3"
  },
  "language_info": {
   "codemirror_mode": {
    "name": "ipython",
    "version": 3
   },
   "file_extension": ".py",
   "mimetype": "text/x-python",
   "name": "python",
   "nbconvert_exporter": "python",
   "pygments_lexer": "ipython3",
   "version": "3.12.4"
  }
 },
 "nbformat": 4,
 "nbformat_minor": 5
}
