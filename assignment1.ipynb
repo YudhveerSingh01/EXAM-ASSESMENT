{
 "cells": [
  {
   "cell_type": "code",
   "execution_count": 31,
   "id": "f94544b6-d140-4282-a81e-0a583d29434d",
   "metadata": {},
   "outputs": [],
   "source": [
    "import numpy as np\n",
    "import pandas as pd\n",
    "from datetime import datetime"
   ]
  },
  {
   "cell_type": "markdown",
   "id": "676519f4-b5e8-454d-bfd0-fb0107e5707b",
   "metadata": {},
   "source": [
    "# Define the date range"
   ]
  },
  {
   "cell_type": "code",
   "execution_count": 33,
   "id": "c217e6f3-e826-4273-b21d-9fdac4345c93",
   "metadata": {},
   "outputs": [],
   "source": [
    "start_date=datetime(2023,6,30)\n",
    "end_date=datetime(2024,6,30)\n",
    "date_range=pd.date_range(start_date,end_date)"
   ]
  },
  {
   "cell_type": "markdown",
   "id": "b6fc57a8-9b2f-4388-a16f-d5b2c8195d91",
   "metadata": {},
   "source": [
    "# Generating random data"
   ]
  },
  {
   "cell_type": "code",
   "execution_count": 35,
   "id": "996e610e-7fac-4833-802b-50b249a2f95e",
   "metadata": {},
   "outputs": [],
   "source": [
    "np.random.seed(0)\n",
    "temperature=np.random.uniform(low=18,high=47,size=len(date_range))\n",
    "humidity=np.random.uniform(low=35,high=87,size=len(date_range))\n",
    "aqi=np.random.uniform(low=25,high=290,size=len(date_range))\n"
   ]
  },
  {
   "cell_type": "markdown",
   "id": "a5253a5d-d489-46fc-a215-79a67f81baef",
   "metadata": {},
   "source": [
    "# Create DataFrame"
   ]
  },
  {
   "cell_type": "code",
   "execution_count": 54,
   "id": "66bdbf9e-7abc-4745-96b4-edc2c62bef48",
   "metadata": {},
   "outputs": [],
   "source": [
    "data={'Date':date_range,\n",
    "      'Temperature (°C)':temperature,\n",
    "      'Humidity (%)':humidity,\n",
    "      'Air Quality Index':aqi}"
   ]
  },
  {
   "cell_type": "code",
   "execution_count": 56,
   "id": "93c84ce5-96b8-4a65-852e-c1d2e1aef686",
   "metadata": {},
   "outputs": [
    {
     "data": {
      "text/html": [
       "<div>\n",
       "<style scoped>\n",
       "    .dataframe tbody tr th:only-of-type {\n",
       "        vertical-align: middle;\n",
       "    }\n",
       "\n",
       "    .dataframe tbody tr th {\n",
       "        vertical-align: top;\n",
       "    }\n",
       "\n",
       "    .dataframe thead th {\n",
       "        text-align: right;\n",
       "    }\n",
       "</style>\n",
       "<table border=\"1\" class=\"dataframe\">\n",
       "  <thead>\n",
       "    <tr style=\"text-align: right;\">\n",
       "      <th></th>\n",
       "      <th>Date</th>\n",
       "      <th>Temperature (°C)</th>\n",
       "      <th>Humidity (%)</th>\n",
       "      <th>Air Quality Index</th>\n",
       "    </tr>\n",
       "  </thead>\n",
       "  <tbody>\n",
       "    <tr>\n",
       "      <th>0</th>\n",
       "      <td>2023-06-30</td>\n",
       "      <td>33.915592</td>\n",
       "      <td>55.749317</td>\n",
       "      <td>156.432128</td>\n",
       "    </tr>\n",
       "    <tr>\n",
       "      <th>1</th>\n",
       "      <td>2023-07-01</td>\n",
       "      <td>38.740492</td>\n",
       "      <td>82.010308</td>\n",
       "      <td>205.661085</td>\n",
       "    </tr>\n",
       "    <tr>\n",
       "      <th>2</th>\n",
       "      <td>2023-07-02</td>\n",
       "      <td>35.480138</td>\n",
       "      <td>70.881301</td>\n",
       "      <td>98.495172</td>\n",
       "    </tr>\n",
       "    <tr>\n",
       "      <th>3</th>\n",
       "      <td>2023-07-03</td>\n",
       "      <td>33.801612</td>\n",
       "      <td>71.380347</td>\n",
       "      <td>163.960650</td>\n",
       "    </tr>\n",
       "    <tr>\n",
       "      <th>4</th>\n",
       "      <td>2023-07-04</td>\n",
       "      <td>30.285989</td>\n",
       "      <td>52.041461</td>\n",
       "      <td>56.105778</td>\n",
       "    </tr>\n",
       "    <tr>\n",
       "      <th>...</th>\n",
       "      <td>...</td>\n",
       "      <td>...</td>\n",
       "      <td>...</td>\n",
       "      <td>...</td>\n",
       "    </tr>\n",
       "    <tr>\n",
       "      <th>362</th>\n",
       "      <td>2024-06-26</td>\n",
       "      <td>33.770373</td>\n",
       "      <td>53.956321</td>\n",
       "      <td>29.521029</td>\n",
       "    </tr>\n",
       "    <tr>\n",
       "      <th>363</th>\n",
       "      <td>2024-06-27</td>\n",
       "      <td>31.250431</td>\n",
       "      <td>61.055285</td>\n",
       "      <td>281.269553</td>\n",
       "    </tr>\n",
       "    <tr>\n",
       "      <th>364</th>\n",
       "      <td>2024-06-28</td>\n",
       "      <td>43.579201</td>\n",
       "      <td>54.572236</td>\n",
       "      <td>187.990375</td>\n",
       "    </tr>\n",
       "    <tr>\n",
       "      <th>365</th>\n",
       "      <td>2024-06-29</td>\n",
       "      <td>31.299515</td>\n",
       "      <td>53.975415</td>\n",
       "      <td>171.396351</td>\n",
       "    </tr>\n",
       "    <tr>\n",
       "      <th>366</th>\n",
       "      <td>2024-06-30</td>\n",
       "      <td>39.000861</td>\n",
       "      <td>48.567034</td>\n",
       "      <td>103.426706</td>\n",
       "    </tr>\n",
       "  </tbody>\n",
       "</table>\n",
       "<p>367 rows × 4 columns</p>\n",
       "</div>"
      ],
      "text/plain": [
       "          Date  Temperature (°C)  Humidity (%)  Air Quality Index\n",
       "0   2023-06-30         33.915592     55.749317         156.432128\n",
       "1   2023-07-01         38.740492     82.010308         205.661085\n",
       "2   2023-07-02         35.480138     70.881301          98.495172\n",
       "3   2023-07-03         33.801612     71.380347         163.960650\n",
       "4   2023-07-04         30.285989     52.041461          56.105778\n",
       "..         ...               ...           ...                ...\n",
       "362 2024-06-26         33.770373     53.956321          29.521029\n",
       "363 2024-06-27         31.250431     61.055285         281.269553\n",
       "364 2024-06-28         43.579201     54.572236         187.990375\n",
       "365 2024-06-29         31.299515     53.975415         171.396351\n",
       "366 2024-06-30         39.000861     48.567034         103.426706\n",
       "\n",
       "[367 rows x 4 columns]"
      ]
     },
     "execution_count": 56,
     "metadata": {},
     "output_type": "execute_result"
    }
   ],
   "source": [
    "df=pd.DataFrame(data)\n",
    "df"
   ]
  },
  {
   "cell_type": "markdown",
   "id": "1ab91ef8-ccdc-411b-ac99-681038805d33",
   "metadata": {},
   "source": [
    "# Save DataFrame to CSV"
   ]
  },
  {
   "cell_type": "code",
   "execution_count": 59,
   "id": "2fc1ce33-f2af-4c42-8ed8-f0957fac6e3b",
   "metadata": {},
   "outputs": [],
   "source": [
    "df.to_csv('city__weather.csv',index=False)"
   ]
  },
  {
   "cell_type": "code",
   "execution_count": null,
   "id": "857b067a-1b59-4b73-9726-475f59626314",
   "metadata": {},
   "outputs": [],
   "source": []
  },
  {
   "cell_type": "code",
   "execution_count": null,
   "id": "918cc155-904b-45cf-a342-803676886060",
   "metadata": {},
   "outputs": [],
   "source": []
  }
 ],
 "metadata": {
  "kernelspec": {
   "display_name": "Python 3 (ipykernel)",
   "language": "python",
   "name": "python3"
  },
  "language_info": {
   "codemirror_mode": {
    "name": "ipython",
    "version": 3
   },
   "file_extension": ".py",
   "mimetype": "text/x-python",
   "name": "python",
   "nbconvert_exporter": "python",
   "pygments_lexer": "ipython3",
   "version": "3.12.4"
  }
 },
 "nbformat": 4,
 "nbformat_minor": 5
}
